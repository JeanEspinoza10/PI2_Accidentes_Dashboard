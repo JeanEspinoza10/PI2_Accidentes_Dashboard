{
 "cells": [
  {
   "cell_type": "markdown",
   "metadata": {},
   "source": [
    "# __Librerias e importando el dataframe__"
   ]
  },
  {
   "cell_type": "code",
   "execution_count": 33,
   "metadata": {},
   "outputs": [],
   "source": [
    "import pandas as pd\n",
    "import numpy as np\n",
    "import matplotlib.pyplot as plt\n",
    "import seaborn as sns\n",
    "from geopy.geocoders import Nominatim"
   ]
  },
  {
   "cell_type": "code",
   "execution_count": 46,
   "metadata": {},
   "outputs": [
    {
     "name": "stdout",
     "output_type": "stream",
     "text": [
      "Collecting Nominatim\n",
      "  Downloading nominatim-0.1.tar.gz (1.7 kB)\n",
      "  Installing build dependencies: started\n",
      "  Installing build dependencies: finished with status 'done'\n",
      "  Getting requirements to build wheel: started\n",
      "  Getting requirements to build wheel: finished with status 'done'\n",
      "  Preparing metadata (pyproject.toml): started\n",
      "  Preparing metadata (pyproject.toml): finished with status 'done'\n",
      "Building wheels for collected packages: Nominatim\n",
      "  Building wheel for Nominatim (pyproject.toml): started\n",
      "  Building wheel for Nominatim (pyproject.toml): finished with status 'done'\n",
      "  Created wheel for Nominatim: filename=nominatim-0.1-py3-none-any.whl size=2351 sha256=334c98acebcb24d53bab7250ab522e94f2038488cba953db1f7ea7af6158b027\n",
      "  Stored in directory: c:\\users\\administrador\\appdata\\local\\pip\\cache\\wheels\\9e\\d5\\ce\\3b990974d5634e1e1f89f673afac6eef48ca309c185822a220\n",
      "Successfully built Nominatim\n",
      "Installing collected packages: Nominatim\n",
      "Successfully installed Nominatim-0.1\n",
      "Note: you may need to restart the kernel to use updated packages.\n"
     ]
    }
   ],
   "source": [
    "%pip install Nominatim"
   ]
  },
  {
   "cell_type": "code",
   "execution_count": 2,
   "metadata": {},
   "outputs": [],
   "source": [
    "accidentes_df = pd.read_csv(\"AccidentesAviones.csv\")"
   ]
  },
  {
   "cell_type": "markdown",
   "metadata": {},
   "source": [
    "# __Analizando los datos__"
   ]
  },
  {
   "cell_type": "code",
   "execution_count": 26,
   "metadata": {},
   "outputs": [
    {
     "data": {
      "text/html": [
       "<div>\n",
       "<style scoped>\n",
       "    .dataframe tbody tr th:only-of-type {\n",
       "        vertical-align: middle;\n",
       "    }\n",
       "\n",
       "    .dataframe tbody tr th {\n",
       "        vertical-align: top;\n",
       "    }\n",
       "\n",
       "    .dataframe thead th {\n",
       "        text-align: right;\n",
       "    }\n",
       "</style>\n",
       "<table border=\"1\" class=\"dataframe\">\n",
       "  <thead>\n",
       "    <tr style=\"text-align: right;\">\n",
       "      <th></th>\n",
       "      <th>Fecha</th>\n",
       "      <th>Hora declarada</th>\n",
       "      <th>Lugar de Accidente</th>\n",
       "      <th>Operador</th>\n",
       "      <th>Descripcion de la ruta</th>\n",
       "      <th>Tipo de aeronave</th>\n",
       "      <th>Total personas a bordo</th>\n",
       "      <th>Pasajeros</th>\n",
       "      <th>Tripulación</th>\n",
       "      <th>Total de fallecidos</th>\n",
       "      <th>Pasajeros fallecidos</th>\n",
       "      <th>Tripulación fallecidos</th>\n",
       "      <th>Víctimas en Tierra</th>\n",
       "      <th>Descripción</th>\n",
       "    </tr>\n",
       "  </thead>\n",
       "  <tbody>\n",
       "    <tr>\n",
       "      <th>0</th>\n",
       "      <td>1908/09/17</td>\n",
       "      <td>17:18</td>\n",
       "      <td>Fort Myer, Virginia</td>\n",
       "      <td>Military - U.S. Army</td>\n",
       "      <td>Demonstration</td>\n",
       "      <td>Wright Flyer III</td>\n",
       "      <td>2.0</td>\n",
       "      <td>1.0</td>\n",
       "      <td>1.0</td>\n",
       "      <td>1.0</td>\n",
       "      <td>1.0</td>\n",
       "      <td>0.0</td>\n",
       "      <td>0.0</td>\n",
       "      <td>During a demonstration flight, a U.S. Army fly...</td>\n",
       "    </tr>\n",
       "    <tr>\n",
       "      <th>1</th>\n",
       "      <td>1909/09/07</td>\n",
       "      <td>Sin hora</td>\n",
       "      <td>Juvisy-sur-Orge, France</td>\n",
       "      <td>Sin Operador</td>\n",
       "      <td>Air show</td>\n",
       "      <td>Wright Byplane</td>\n",
       "      <td>1.0</td>\n",
       "      <td>0.0</td>\n",
       "      <td>1.0</td>\n",
       "      <td>1.0</td>\n",
       "      <td>0.0</td>\n",
       "      <td>0.0</td>\n",
       "      <td>0.0</td>\n",
       "      <td>Eugene Lefebvre was the first pilot to ever be...</td>\n",
       "    </tr>\n",
       "    <tr>\n",
       "      <th>2</th>\n",
       "      <td>1912/07/12</td>\n",
       "      <td>06:30</td>\n",
       "      <td>Atlantic City, New Jersey</td>\n",
       "      <td>Military - U.S. Navy</td>\n",
       "      <td>Test flight</td>\n",
       "      <td>Dirigible</td>\n",
       "      <td>5.0</td>\n",
       "      <td>0.0</td>\n",
       "      <td>5.0</td>\n",
       "      <td>5.0</td>\n",
       "      <td>0.0</td>\n",
       "      <td>5.0</td>\n",
       "      <td>0.0</td>\n",
       "      <td>First U.S. dirigible Akron exploded just offsh...</td>\n",
       "    </tr>\n",
       "    <tr>\n",
       "      <th>3</th>\n",
       "      <td>1913/08/06</td>\n",
       "      <td>Sin hora</td>\n",
       "      <td>Victoria, British Columbia, Canada</td>\n",
       "      <td>Private</td>\n",
       "      <td>Sin Ruta</td>\n",
       "      <td>Curtiss seaplane</td>\n",
       "      <td>1.0</td>\n",
       "      <td>0.0</td>\n",
       "      <td>1.0</td>\n",
       "      <td>1.0</td>\n",
       "      <td>0.0</td>\n",
       "      <td>1.0</td>\n",
       "      <td>0.0</td>\n",
       "      <td>The first fatal airplane accident in Canada oc...</td>\n",
       "    </tr>\n",
       "    <tr>\n",
       "      <th>4</th>\n",
       "      <td>1913/09/09</td>\n",
       "      <td>18:30</td>\n",
       "      <td>Over the North Sea</td>\n",
       "      <td>Military - German Navy</td>\n",
       "      <td>Sin Ruta</td>\n",
       "      <td>Zeppelin L-1 (airship)</td>\n",
       "      <td>20.0</td>\n",
       "      <td>16.0</td>\n",
       "      <td>4.0</td>\n",
       "      <td>14.0</td>\n",
       "      <td>10.0</td>\n",
       "      <td>4.0</td>\n",
       "      <td>0.0</td>\n",
       "      <td>The airship flew into a thunderstorm and encou...</td>\n",
       "    </tr>\n",
       "  </tbody>\n",
       "</table>\n",
       "</div>"
      ],
      "text/plain": [
       "        Fecha Hora declarada                  Lugar de Accidente  \\\n",
       "0  1908/09/17          17:18                 Fort Myer, Virginia   \n",
       "1  1909/09/07       Sin hora             Juvisy-sur-Orge, France   \n",
       "2  1912/07/12          06:30           Atlantic City, New Jersey   \n",
       "3  1913/08/06       Sin hora  Victoria, British Columbia, Canada   \n",
       "4  1913/09/09          18:30                  Over the North Sea   \n",
       "\n",
       "                 Operador Descripcion de la ruta        Tipo de aeronave  \\\n",
       "0    Military - U.S. Army          Demonstration        Wright Flyer III   \n",
       "1            Sin Operador               Air show          Wright Byplane   \n",
       "2    Military - U.S. Navy            Test flight               Dirigible   \n",
       "3                 Private               Sin Ruta        Curtiss seaplane   \n",
       "4  Military - German Navy               Sin Ruta  Zeppelin L-1 (airship)   \n",
       "\n",
       "   Total personas a bordo  Pasajeros  Tripulación  Total de fallecidos  \\\n",
       "0                     2.0        1.0          1.0                  1.0   \n",
       "1                     1.0        0.0          1.0                  1.0   \n",
       "2                     5.0        0.0          5.0                  5.0   \n",
       "3                     1.0        0.0          1.0                  1.0   \n",
       "4                    20.0       16.0          4.0                 14.0   \n",
       "\n",
       "   Pasajeros fallecidos  Tripulación fallecidos  Víctimas en Tierra  \\\n",
       "0                   1.0                     0.0                 0.0   \n",
       "1                   0.0                     0.0                 0.0   \n",
       "2                   0.0                     5.0                 0.0   \n",
       "3                   0.0                     1.0                 0.0   \n",
       "4                  10.0                     4.0                 0.0   \n",
       "\n",
       "                                         Descripción  \n",
       "0  During a demonstration flight, a U.S. Army fly...  \n",
       "1  Eugene Lefebvre was the first pilot to ever be...  \n",
       "2  First U.S. dirigible Akron exploded just offsh...  \n",
       "3  The first fatal airplane accident in Canada oc...  \n",
       "4  The airship flew into a thunderstorm and encou...  "
      ]
     },
     "execution_count": 26,
     "metadata": {},
     "output_type": "execute_result"
    }
   ],
   "source": [
    "# Visualizando el dataframe\n",
    "accidentes_df.head()"
   ]
  },
  {
   "cell_type": "code",
   "execution_count": 4,
   "metadata": {},
   "outputs": [
    {
     "name": "stdout",
     "output_type": "stream",
     "text": [
      "<class 'pandas.core.frame.DataFrame'>\n",
      "RangeIndex: 5008 entries, 0 to 5007\n",
      "Data columns (total 18 columns):\n",
      " #   Column                  Non-Null Count  Dtype \n",
      "---  ------                  --------------  ----- \n",
      " 0   Unnamed: 0              5008 non-null   int64 \n",
      " 1   fecha                   5008 non-null   object\n",
      " 2   HORA declarada          5008 non-null   object\n",
      " 3   Ruta                    5008 non-null   object\n",
      " 4   OperadOR                5008 non-null   object\n",
      " 5   flight_no               5008 non-null   object\n",
      " 6   route                   5008 non-null   object\n",
      " 7   ac_type                 5008 non-null   object\n",
      " 8   registration            5008 non-null   object\n",
      " 9   cn_ln                   5008 non-null   object\n",
      " 10  all_aboard              5008 non-null   object\n",
      " 11  PASAJEROS A BORDO       5008 non-null   object\n",
      " 12  crew_aboard             5008 non-null   object\n",
      " 13  cantidad de fallecidos  5008 non-null   object\n",
      " 14  passenger_fatalities    5008 non-null   object\n",
      " 15  crew_fatalities         5008 non-null   object\n",
      " 16  ground                  5008 non-null   object\n",
      " 17  summary                 5008 non-null   object\n",
      "dtypes: int64(1), object(17)\n",
      "memory usage: 704.4+ KB\n"
     ]
    }
   ],
   "source": [
    "# El tipo de datos de cada columna\n",
    "accidentes_df.info()"
   ]
  },
  {
   "cell_type": "markdown",
   "metadata": {},
   "source": [
    "### __Cambiando los nombres de mis columnas__"
   ]
  },
  {
   "cell_type": "markdown",
   "metadata": {},
   "source": [
    "Analisis de cada columna: lo que encontramos, el cambio realizado y formato.\n",
    "\n",
    "1. fecha : Fecha ::: Esta en un formato April 21, 1945.\n",
    "\n",
    "2. HORA declarada : Hora declarada :::  Formato 2205 un cambio del nombre de la columna a una forma normalizada\n",
    "\n",
    "3. Ruta: Lugar de Accidente ::: Pasamos a iterar los diferentes registros y se realiza la localización de este valor y el valor del registro route; llegué a la conclución que este valor de \"Ruta\" es donde \n",
    "                                se estrello la aeronave.\n",
    "\n",
    "4. OperadOR: Operador ::: Un cambio del nombre de la columna a una forma normalizada.\n",
    "\n",
    "5. flight_no: Numero de vuelo ::: Solamente hubo una traducción del ingles al español para tener mejor comprensión.\n",
    "\n",
    "6. route: Descripcion de la ruta ::: Visualizamos los diferentes valores y visualizando estas ciudades dentro de la aplicacion de google maps; definimos este valor como Descripción de la ruta.\n",
    "\n",
    "7. ac_type: Tipo de aeronave ::: Solamente hubo una traducción del ingles al español para tener mejor comprensión.\n",
    "\n",
    "8. registration: Identificador ::: Visualizando y realizando consulta a la diferente documentacion sobre accidentes aéreos; definimos este valor como un identificador.\n",
    "\n",
    "9. cn_ln: Numero de fabricación ::: Visualizando y realizando consulta a la diferente documentacion sobre accidentes aéreos; definimos este valor como un numero de fabricación de cada aeronave.\n",
    "\n",
    "Para los siguientes valores, se encontro que all_aboard, PASAJEROS A BORDO, crew_aboard. Y la suma de PASAJEROS A BORDO y crew_aboard nos da el total de all_aboard.\n",
    "\n",
    "10. all_aboard : Total personas a bordo ::: Total de personas sin discriminar su función en la aeronave.\n",
    "\n",
    "11. PASAJEROS A BORDO : Pasajeros ::: Personas que son personajes.\n",
    "    \n",
    "12. crew_aboard : Tripulación ::: Es la cantidad de personas que pertenecen a la tripulación.\n",
    "\n",
    "Para los siguientes valores, cantidad de fallecidos, passenger_fatalities y crew_fatalities. Y la suma de passenger_fatalities y crew_fatalities nos da el total de cantidad de fallecidos.\n",
    "\n",
    "13. cantidad de fallecidos: Total de fallecidos ::: Total de personas fallecidas sin entrar en una clasificacion a su función en la aeronave. \n",
    "\n",
    "14. passenger_fatalities: Pasajeros fallecidos ::: Total de pasajeros fallecidos.\n",
    "\n",
    "15. crew_fatalities: Tripulación fallecidos ::: Total de personas pertenecientes a la tripulación fallecidos.\n",
    "\n",
    "Finalmente tenemos:\n",
    "\n",
    "16. ground: Víctimas en Tierra ::: Son aquellas victimas que no se encontraban en la aeronave sino en tierra realizando sus labores cotidianas.\n",
    "\n",
    "17. summary: Descripción ::: Esta columna nos muestra la información y/o detalle del accidente.\n"
   ]
  },
  {
   "cell_type": "code",
   "execution_count": 5,
   "metadata": {},
   "outputs": [],
   "source": [
    "# Cambiar el nombre de mis columnas - Normalizarlas\n",
    "\n",
    "accidentes_df.rename(columns={\"fecha\": \"Fecha\"}, inplace=True)\n",
    "accidentes_df.rename(columns={\"HORA declarada\": \"Hora declarada\"}, inplace=True)\n",
    "accidentes_df.rename(columns={\"Ruta\": \"Lugar de Accidente\"}, inplace=True)\n",
    "accidentes_df.rename(columns={\"OperadOR\": \"Operador\"}, inplace=True)\n",
    "accidentes_df.rename(columns={\"flight_no\": \"Numero de vuelo\"}, inplace=True)\n",
    "accidentes_df.rename(columns={\"route\": \"Descripcion de la ruta\"}, inplace=True)\n",
    "accidentes_df.rename(columns={\"ac_type\": \"Tipo de aeronave\"}, inplace=True)\n",
    "accidentes_df.rename(columns={\"registration\": \"Identificador\"}, inplace=True)\n",
    "accidentes_df.rename(columns={\"cn_ln\": \"Numero de fabricación\"}, inplace=True)\n",
    "accidentes_df.rename(columns={\"all_aboard\": \"Total personas a bordo\"}, inplace=True)\n",
    "accidentes_df.rename(columns={\"PASAJEROS A BORDO\": \"Pasajeros\"}, inplace=True)\n",
    "accidentes_df.rename(columns={\"crew_aboard\": \"Tripulación\"}, inplace=True)\n",
    "accidentes_df.rename(columns={\"cantidad de fallecidos\": \"Total de fallecidos\"}, inplace=True)\n",
    "accidentes_df.rename(columns={\"passenger_fatalities\": \"Pasajeros fallecidos\"}, inplace=True)\n",
    "accidentes_df.rename(columns={\"crew_fatalities\": \"Tripulación fallecidos\"}, inplace=True)\n",
    "accidentes_df.rename(columns={\"ground\": \"Víctimas en Tierra\"}, inplace=True)\n",
    "accidentes_df.rename(columns={\"summary\": \"Descripción\"}, inplace=True)\n",
    "\n"
   ]
  },
  {
   "cell_type": "code",
   "execution_count": 6,
   "metadata": {},
   "outputs": [
    {
     "name": "stdout",
     "output_type": "stream",
     "text": [
      "Unnamed: 0                                                             2311\n",
      "Fecha                                                     November 30, 1967\n",
      "Hora declarada                                                         1430\n",
      "Lugar de Accidente                             Near Qui Nhon, South Vietnam\n",
      "Operador                                          Military - U.S. Air Force\n",
      "Numero de vuelo                                                           ?\n",
      "Descripcion de la ruta                                     Pleiku  Qui Nhon\n",
      "Tipo de aeronave                           de Havilland Canada C-7A Caribou\n",
      "Identificador                                                       62-4175\n",
      "Numero de fabricación                                                     ?\n",
      "Total personas a bordo                                                   26\n",
      "Pasajeros                                                                22\n",
      "Tripulación                                                               4\n",
      "Total de fallecidos                                                      26\n",
      "Pasajeros fallecidos                                                     22\n",
      "Tripulación fallecidos                                                    4\n",
      "Víctimas en Tierra                                                        0\n",
      "Descripción               The aircraft crashed and burned on a slope of ...\n",
      "Name: 2311, dtype: object\n",
      "The aircraft crashed and burned on a slope of a mountain in light rain and low visibility as it diverted to Nha.Trang from it scheduled landing at Qui Nhon.\n"
     ]
    }
   ],
   "source": [
    "# Algoritmo para visualizar los diferentes tipos de datos.\n",
    "\n",
    "valor_fila = accidentes_df.iloc[2311]\n",
    "\n",
    "# Visualizar los valores de esa fila como si fuera un diccionario o una serie de pandas\n",
    "print(valor_fila)\n",
    "\n",
    "# Visualizar el valor de una columna especifica\n",
    "print(valor_fila[\"Descripción\"])"
   ]
  },
  {
   "cell_type": "markdown",
   "metadata": {},
   "source": [
    "### __Tipos de datos__"
   ]
  },
  {
   "cell_type": "markdown",
   "metadata": {},
   "source": [
    "Los tipos de valores debemos cambiarlo según el tipo de nombres, datos que tengamos en nuestro dataframe.\n"
   ]
  },
  {
   "cell_type": "markdown",
   "metadata": {},
   "source": [
    "##### 1. Columna Fecha pasara a un formato: Año/Mes/Día"
   ]
  },
  {
   "cell_type": "code",
   "execution_count": 7,
   "metadata": {},
   "outputs": [],
   "source": [
    "# Convierte la columna 'Fecha' en un objeto datetime y maneja valores vacíos\n",
    "accidentes_df['Fecha'] = pd.to_datetime(accidentes_df['Fecha'], format='%B %d, %Y', errors='coerce')\n",
    "\n",
    "# Formatea la columna 'Fecha' en el formato deseado (año/mes/día)\n",
    "accidentes_df['Fecha'] = accidentes_df['Fecha'].dt.strftime('%Y/%m/%d')"
   ]
  },
  {
   "cell_type": "markdown",
   "metadata": {},
   "source": [
    "##### 2. Columna Hora declarada a un formato: 24 horas"
   ]
  },
  {
   "cell_type": "code",
   "execution_count": 8,
   "metadata": {},
   "outputs": [],
   "source": [
    "# Convierte la columna 'Hora declarada' en un objeto datetime\n",
    "accidentes_df['Hora declarada'] = pd.to_datetime(accidentes_df['Hora declarada'], format='%H%M', errors='coerce').dt.strftime('%H:%M')\n",
    "\n"
   ]
  },
  {
   "cell_type": "markdown",
   "metadata": {},
   "source": [
    "##### 3.  Convertir las columnas a tipo entero"
   ]
  },
  {
   "cell_type": "code",
   "execution_count": 10,
   "metadata": {},
   "outputs": [],
   "source": [
    "# Convierte las columnas a tipo entero\n",
    "columns_to_convert = [\n",
    "    'Total personas a bordo',\n",
    "    'Pasajeros',\n",
    "    'Tripulación',\n",
    "    'Total de fallecidos',\n",
    "    'Pasajeros fallecidos',\n",
    "    'Tripulación fallecidos',\n",
    "    'Víctimas en Tierra'\n",
    "]\n",
    "\n",
    "accidentes_df[columns_to_convert] = accidentes_df[columns_to_convert].apply(pd.to_numeric, errors='coerce', downcast='integer')"
   ]
  },
  {
   "cell_type": "markdown",
   "metadata": {},
   "source": [
    "### __Eliminación y analisis del completado de valores nulos a cada variable__"
   ]
  },
  {
   "cell_type": "markdown",
   "metadata": {},
   "source": [
    "##### 1. Para cada columna 'Pasajeros fallecidos', 'Tripulación fallecidos', 'Total de fallecidos'\n",
    "\n",
    "Se ha tomado la decisión de eliminar los registros en las columnas 'Pasajeros fallecidos', 'Tripulación fallecidos' y 'Total de fallecidos' en los casos en que todos los valores sean NaN o nulos. Esta decisión se fundamenta en la necesidad de identificar si un registro corresponde a un accidente aéreo en el que hubo víctimas tanto entre los pasajeros como entre la tripulación. Por lo tanto, es esencial que al menos una de estas columnas contenga información válida para que el registro sea relevante en el contexto de estos accidentes."
   ]
  },
  {
   "cell_type": "code",
   "execution_count": 11,
   "metadata": {},
   "outputs": [
    {
     "name": "stdout",
     "output_type": "stream",
     "text": [
      "<class 'pandas.core.frame.DataFrame'>\n",
      "RangeIndex: 5000 entries, 0 to 4999\n",
      "Data columns (total 18 columns):\n",
      " #   Column                  Non-Null Count  Dtype  \n",
      "---  ------                  --------------  -----  \n",
      " 0   Unnamed: 0              5000 non-null   int64  \n",
      " 1   Fecha                   5000 non-null   object \n",
      " 2   Hora declarada          3287 non-null   object \n",
      " 3   Lugar de Accidente      5000 non-null   object \n",
      " 4   Operador                5000 non-null   object \n",
      " 5   Numero de vuelo         5000 non-null   object \n",
      " 6   Descripcion de la ruta  5000 non-null   object \n",
      " 7   Tipo de aeronave        5000 non-null   object \n",
      " 8   Identificador           5000 non-null   object \n",
      " 9   Numero de fabricación   5000 non-null   object \n",
      " 10  Total personas a bordo  4991 non-null   float64\n",
      " 11  Pasajeros               4787 non-null   float64\n",
      " 12  Tripulación             4789 non-null   float64\n",
      " 13  Total de fallecidos     5000 non-null   float64\n",
      " 14  Pasajeros fallecidos    4773 non-null   float64\n",
      " 15  Tripulación fallecidos  4773 non-null   float64\n",
      " 16  Víctimas en Tierra      4964 non-null   float64\n",
      " 17  Descripción             5000 non-null   object \n",
      "dtypes: float64(7), int64(1), object(10)\n",
      "memory usage: 703.3+ KB\n"
     ]
    }
   ],
   "source": [
    "# Elimina las filas donde al menos una de las tres columnas mencionadas sea NaN\n",
    "accidentes_df = accidentes_df.dropna(subset=['Pasajeros fallecidos', 'Tripulación fallecidos', 'Total de fallecidos'], how='all')\n",
    "accidentes_df = accidentes_df.reset_index(drop=True)\n",
    "accidentes_df.info()"
   ]
  },
  {
   "cell_type": "markdown",
   "metadata": {},
   "source": [
    "Columna Pasajeros fallecidos y tripulación fallecidos"
   ]
  },
  {
   "cell_type": "code",
   "execution_count": null,
   "metadata": {},
   "outputs": [],
   "source": [
    "# Primero, identificamos las filas donde ambas columnas \"Pasajeros fallecidos\" y \"Tripulación fallecidos\" son nulas\n",
    "filas_nulas = accidentes_df[(accidentes_df['Pasajeros fallecidos'].isnull()) & (accidentes_df['Tripulación fallecidos'].isnull())]\n",
    "\n",
    "# Luego, iteramos sobre estas filas y aplicamos las sustituciones según las condiciones\n",
    "for indice, fila in filas_nulas.iterrows():\n",
    "    total_fallecidos = fila['Total de fallecidos']\n",
    "    tripulacion_fallecidos = fila['Tripulación']\n",
    "    \n",
    "    if total_fallecidos > tripulacion_fallecidos:\n",
    "        accidentes_df.at[indice, 'Tripulación fallecidos'] = tripulacion_fallecidos\n",
    "        accidentes_df.at[indice, 'Pasajeros fallecidos'] = total_fallecidos - tripulacion_fallecidos\n",
    "    else:\n",
    "        accidentes_df.at[indice, 'Tripulación fallecidos'] = 0\n",
    "        accidentes_df.at[indice, 'Pasajeros fallecidos'] = total_fallecidos -  accidentes_df.at[indice, 'Tripulación fallecidos']\n"
   ]
  },
  {
   "cell_type": "code",
   "execution_count": null,
   "metadata": {},
   "outputs": [],
   "source": [
    "# Verificar si la columna \"Pasajeros fallecidos\" no es nula y llenar \"Total personas a bordo\" con la suma\n",
    "accidentes_df['Pasajeros fallecidos'].fillna(accidentes_df['Total de fallecidos'] - accidentes_df['Tripulación fallecidos'], inplace=True)\n"
   ]
  },
  {
   "cell_type": "code",
   "execution_count": null,
   "metadata": {},
   "outputs": [],
   "source": [
    "# Verificar si la columna \"Pasajeros fallecidos\" no es nula y llenar \"Total personas a bordo\" con la suma\n",
    "accidentes_df['Tripulación fallecidos'].fillna(accidentes_df['Total de fallecidos'] - accidentes_df['Pasajeros fallecidos'], inplace=True)"
   ]
  },
  {
   "cell_type": "code",
   "execution_count": null,
   "metadata": {},
   "outputs": [
    {
     "data": {
      "text/html": [
       "<div>\n",
       "<style scoped>\n",
       "    .dataframe tbody tr th:only-of-type {\n",
       "        vertical-align: middle;\n",
       "    }\n",
       "\n",
       "    .dataframe tbody tr th {\n",
       "        vertical-align: top;\n",
       "    }\n",
       "\n",
       "    .dataframe thead th {\n",
       "        text-align: right;\n",
       "    }\n",
       "</style>\n",
       "<table border=\"1\" class=\"dataframe\">\n",
       "  <thead>\n",
       "    <tr style=\"text-align: right;\">\n",
       "      <th></th>\n",
       "      <th>Unnamed: 0</th>\n",
       "      <th>Fecha</th>\n",
       "      <th>Hora declarada</th>\n",
       "      <th>Lugar de Accidente</th>\n",
       "      <th>Operador</th>\n",
       "      <th>Numero de vuelo</th>\n",
       "      <th>Descripcion de la ruta</th>\n",
       "      <th>Tipo de aeronave</th>\n",
       "      <th>Identificador</th>\n",
       "      <th>Numero de fabricación</th>\n",
       "      <th>Total personas a bordo</th>\n",
       "      <th>Pasajeros</th>\n",
       "      <th>Tripulación</th>\n",
       "      <th>Total de fallecidos</th>\n",
       "      <th>Pasajeros fallecidos</th>\n",
       "      <th>Tripulación fallecidos</th>\n",
       "      <th>Víctimas en Tierra</th>\n",
       "      <th>Descripción</th>\n",
       "    </tr>\n",
       "  </thead>\n",
       "  <tbody>\n",
       "    <tr>\n",
       "      <th>0</th>\n",
       "      <td>0</td>\n",
       "      <td>1908/09/17</td>\n",
       "      <td>17:18</td>\n",
       "      <td>Fort Myer, Virginia</td>\n",
       "      <td>Military - U.S. Army</td>\n",
       "      <td>?</td>\n",
       "      <td>Demonstration</td>\n",
       "      <td>Wright Flyer III</td>\n",
       "      <td>?</td>\n",
       "      <td>1</td>\n",
       "      <td>2.0</td>\n",
       "      <td>1.0</td>\n",
       "      <td>1.0</td>\n",
       "      <td>1.0</td>\n",
       "      <td>1.0</td>\n",
       "      <td>0.0</td>\n",
       "      <td>0.0</td>\n",
       "      <td>During a demonstration flight, a U.S. Army fly...</td>\n",
       "    </tr>\n",
       "    <tr>\n",
       "      <th>1</th>\n",
       "      <td>1</td>\n",
       "      <td>1909/09/07</td>\n",
       "      <td>NaN</td>\n",
       "      <td>Juvisy-sur-Orge, France</td>\n",
       "      <td>?</td>\n",
       "      <td>?</td>\n",
       "      <td>Air show</td>\n",
       "      <td>Wright Byplane</td>\n",
       "      <td>SC1</td>\n",
       "      <td>?</td>\n",
       "      <td>1.0</td>\n",
       "      <td>0.0</td>\n",
       "      <td>1.0</td>\n",
       "      <td>1.0</td>\n",
       "      <td>0.0</td>\n",
       "      <td>0.0</td>\n",
       "      <td>0.0</td>\n",
       "      <td>Eugene Lefebvre was the first pilot to ever be...</td>\n",
       "    </tr>\n",
       "    <tr>\n",
       "      <th>2</th>\n",
       "      <td>2</td>\n",
       "      <td>1912/07/12</td>\n",
       "      <td>06:30</td>\n",
       "      <td>Atlantic City, New Jersey</td>\n",
       "      <td>Military - U.S. Navy</td>\n",
       "      <td>?</td>\n",
       "      <td>Test flight</td>\n",
       "      <td>Dirigible</td>\n",
       "      <td>?</td>\n",
       "      <td>?</td>\n",
       "      <td>5.0</td>\n",
       "      <td>0.0</td>\n",
       "      <td>5.0</td>\n",
       "      <td>5.0</td>\n",
       "      <td>0.0</td>\n",
       "      <td>5.0</td>\n",
       "      <td>0.0</td>\n",
       "      <td>First U.S. dirigible Akron exploded just offsh...</td>\n",
       "    </tr>\n",
       "    <tr>\n",
       "      <th>3</th>\n",
       "      <td>3</td>\n",
       "      <td>1913/08/06</td>\n",
       "      <td>NaN</td>\n",
       "      <td>Victoria, British Columbia, Canada</td>\n",
       "      <td>Private</td>\n",
       "      <td>?</td>\n",
       "      <td>?</td>\n",
       "      <td>Curtiss seaplane</td>\n",
       "      <td>?</td>\n",
       "      <td>?</td>\n",
       "      <td>1.0</td>\n",
       "      <td>0.0</td>\n",
       "      <td>1.0</td>\n",
       "      <td>1.0</td>\n",
       "      <td>0.0</td>\n",
       "      <td>1.0</td>\n",
       "      <td>0.0</td>\n",
       "      <td>The first fatal airplane accident in Canada oc...</td>\n",
       "    </tr>\n",
       "    <tr>\n",
       "      <th>4</th>\n",
       "      <td>4</td>\n",
       "      <td>1913/09/09</td>\n",
       "      <td>18:30</td>\n",
       "      <td>Over the North Sea</td>\n",
       "      <td>Military - German Navy</td>\n",
       "      <td>?</td>\n",
       "      <td>?</td>\n",
       "      <td>Zeppelin L-1 (airship)</td>\n",
       "      <td>?</td>\n",
       "      <td>?</td>\n",
       "      <td>20.0</td>\n",
       "      <td>16.0</td>\n",
       "      <td>4.0</td>\n",
       "      <td>14.0</td>\n",
       "      <td>10.0</td>\n",
       "      <td>4.0</td>\n",
       "      <td>0.0</td>\n",
       "      <td>The airship flew into a thunderstorm and encou...</td>\n",
       "    </tr>\n",
       "  </tbody>\n",
       "</table>\n",
       "</div>"
      ],
      "text/plain": [
       "   Unnamed: 0       Fecha Hora declarada                  Lugar de Accidente  \\\n",
       "0           0  1908/09/17          17:18                 Fort Myer, Virginia   \n",
       "1           1  1909/09/07            NaN             Juvisy-sur-Orge, France   \n",
       "2           2  1912/07/12          06:30           Atlantic City, New Jersey   \n",
       "3           3  1913/08/06            NaN  Victoria, British Columbia, Canada   \n",
       "4           4  1913/09/09          18:30                  Over the North Sea   \n",
       "\n",
       "                 Operador Numero de vuelo Descripcion de la ruta  \\\n",
       "0    Military - U.S. Army               ?          Demonstration   \n",
       "1                       ?               ?               Air show   \n",
       "2    Military - U.S. Navy               ?            Test flight   \n",
       "3                 Private               ?                      ?   \n",
       "4  Military - German Navy               ?                      ?   \n",
       "\n",
       "         Tipo de aeronave Identificador Numero de fabricación  \\\n",
       "0        Wright Flyer III             ?                     1   \n",
       "1          Wright Byplane           SC1                     ?   \n",
       "2               Dirigible             ?                     ?   \n",
       "3        Curtiss seaplane             ?                     ?   \n",
       "4  Zeppelin L-1 (airship)             ?                     ?   \n",
       "\n",
       "   Total personas a bordo  Pasajeros  Tripulación  Total de fallecidos  \\\n",
       "0                     2.0        1.0          1.0                  1.0   \n",
       "1                     1.0        0.0          1.0                  1.0   \n",
       "2                     5.0        0.0          5.0                  5.0   \n",
       "3                     1.0        0.0          1.0                  1.0   \n",
       "4                    20.0       16.0          4.0                 14.0   \n",
       "\n",
       "   Pasajeros fallecidos  Tripulación fallecidos  Víctimas en Tierra  \\\n",
       "0                   1.0                     0.0                 0.0   \n",
       "1                   0.0                     0.0                 0.0   \n",
       "2                   0.0                     5.0                 0.0   \n",
       "3                   0.0                     1.0                 0.0   \n",
       "4                  10.0                     4.0                 0.0   \n",
       "\n",
       "                                         Descripción  \n",
       "0  During a demonstration flight, a U.S. Army fly...  \n",
       "1  Eugene Lefebvre was the first pilot to ever be...  \n",
       "2  First U.S. dirigible Akron exploded just offsh...  \n",
       "3  The first fatal airplane accident in Canada oc...  \n",
       "4  The airship flew into a thunderstorm and encou...  "
      ]
     },
     "metadata": {},
     "output_type": "display_data"
    }
   ],
   "source": [
    "accidentes_df.head()"
   ]
  },
  {
   "cell_type": "markdown",
   "metadata": {},
   "source": [
    "##### 2. Columna Tripulación, Total pasajero a bordo y Pasajeros\n"
   ]
  },
  {
   "cell_type": "code",
   "execution_count": 12,
   "metadata": {},
   "outputs": [
    {
     "data": {
      "image/png": "[encoded data removed]",
      "text/plain": [
       "<Figure size 1000x500 with 1 Axes>"
      ]
     },
     "metadata": {},
     "output_type": "display_data"
    }
   ],
   "source": [
    "# Graficar la columna \"Tripulación\" contra el registro (índice)\n",
    "plt.figure(figsize=(10, 5))\n",
    "plt.plot(accidentes_df.index, accidentes_df['Tripulación'], label='Tripulación', marker='o')\n",
    "plt.axhline(y=accidentes_df['Tripulación'].mean(), color='r', linestyle='--', label='Media de Tripulación')\n",
    "plt.xlabel('Registro')\n",
    "plt.ylabel('Tripulación')\n",
    "plt.title('Grafica de Tripulación vs. Registro')\n",
    "plt.legend()\n",
    "plt.grid(True)\n",
    "\n",
    "# Mostrar el gráfico\n",
    "plt.tight_layout()\n",
    "plt.show()"
   ]
  },
  {
   "cell_type": "markdown",
   "metadata": {},
   "source": [
    "Según el grafico anterior de Tripulación, se logra apreciar que hay ciertos picos. Y para lo que concierne a los valores nulos, se decidio rellernalos la media y no perder información."
   ]
  },
  {
   "cell_type": "code",
   "execution_count": 14,
   "metadata": {},
   "outputs": [
    {
     "name": "stdout",
     "output_type": "stream",
     "text": [
      "4\n"
     ]
    }
   ],
   "source": [
    "accidentes_df.head()\n",
    "\n",
    "# Calcular la media de la columna \"Tripulación\"\n",
    "media_tripulacion = accidentes_df['Tripulación'].mean()\n",
    "\n",
    "# Obtener la parte entera de la media\n",
    "media_tripulacion_entera = int(media_tripulacion)\n",
    "\n",
    "print(media_tripulacion_entera)\n",
    "# Llenar los valores nulos en \"Tripulación\" con la parte entera de la media\n",
    "accidentes_df['Tripulación'].fillna(media_tripulacion_entera, inplace=True)\n",
    "\n",
    "\n"
   ]
  },
  {
   "cell_type": "markdown",
   "metadata": {},
   "source": [
    "A continuación debemos completar los valores de las columnas Total personas a bordo y Pasajeros.\n",
    "* Primero debemos completar la columnas Total a personas a bordo con la suma de Pasajeros y Tripulación. En caso, de que siga con valores nulos, entonces pasamos a completarlo con el valor de la columna Total de fallecidos.\n",
    "\n",
    "* Finalmente el valor de la columna Pasajeros, se complementara mediante  la resta de Total personas a bordo - Tripulación."
   ]
  },
  {
   "cell_type": "code",
   "execution_count": 15,
   "metadata": {},
   "outputs": [],
   "source": [
    "# Verificar si la columna \"Total personas a bordo\" es nula entonce lo completamos con el valor de Pasajeros + Tripulación\n",
    "accidentes_df['Total personas a bordo'].fillna(accidentes_df['Pasajeros'] + accidentes_df['Tripulación'], inplace=True)\n"
   ]
  },
  {
   "cell_type": "code",
   "execution_count": 16,
   "metadata": {},
   "outputs": [],
   "source": [
    "# Verificar si la columna \"Total personas a bordo\" es nula y llenar \"Total personas a bordo\" con la suma\n",
    "accidentes_df['Total personas a bordo'].fillna(accidentes_df['Total de fallecidos'], inplace=True)\n"
   ]
  },
  {
   "cell_type": "code",
   "execution_count": 17,
   "metadata": {},
   "outputs": [],
   "source": [
    "# Verificar si la columna \"Pasajeros\"  es nula y llenar \"Total personas a bordo\" con la suma\n",
    "accidentes_df['Pasajeros'].fillna(accidentes_df['Total personas a bordo'] - accidentes_df['Tripulación'], inplace=True)\n"
   ]
  },
  {
   "cell_type": "markdown",
   "metadata": {},
   "source": [
    "##### 3. Columnas a eliminar\n",
    "\n",
    "De acuerdo a nuestra bibliografia las siguientes columnas no tienen una influencia sobre los accidentes aéreos:\n",
    "- Numero de vuelo\n",
    "- Numero de fabricación\n",
    "- Identificador"
   ]
  },
  {
   "cell_type": "code",
   "execution_count": 22,
   "metadata": {},
   "outputs": [],
   "source": [
    "# Elimina la columna \"Unnamed\"\n",
    "accidentes_df = accidentes_df.drop(columns=['Unnamed: 0', 'Numero de vuelo','Numero de fabricación','Identificador'])"
   ]
  },
  {
   "cell_type": "code",
   "execution_count": 23,
   "metadata": {},
   "outputs": [
    {
     "data": {
      "text/html": [
       "<div>\n",
       "<style scoped>\n",
       "    .dataframe tbody tr th:only-of-type {\n",
       "        vertical-align: middle;\n",
       "    }\n",
       "\n",
       "    .dataframe tbody tr th {\n",
       "        vertical-align: top;\n",
       "    }\n",
       "\n",
       "    .dataframe thead th {\n",
       "        text-align: right;\n",
       "    }\n",
       "</style>\n",
       "<table border=\"1\" class=\"dataframe\">\n",
       "  <thead>\n",
       "    <tr style=\"text-align: right;\">\n",
       "      <th></th>\n",
       "      <th>Fecha</th>\n",
       "      <th>Hora declarada</th>\n",
       "      <th>Lugar de Accidente</th>\n",
       "      <th>Operador</th>\n",
       "      <th>Descripcion de la ruta</th>\n",
       "      <th>Tipo de aeronave</th>\n",
       "      <th>Total personas a bordo</th>\n",
       "      <th>Pasajeros</th>\n",
       "      <th>Tripulación</th>\n",
       "      <th>Total de fallecidos</th>\n",
       "      <th>Pasajeros fallecidos</th>\n",
       "      <th>Tripulación fallecidos</th>\n",
       "      <th>Víctimas en Tierra</th>\n",
       "      <th>Descripción</th>\n",
       "    </tr>\n",
       "  </thead>\n",
       "  <tbody>\n",
       "    <tr>\n",
       "      <th>0</th>\n",
       "      <td>1908/09/17</td>\n",
       "      <td>17:18</td>\n",
       "      <td>Fort Myer, Virginia</td>\n",
       "      <td>Military - U.S. Army</td>\n",
       "      <td>Demonstration</td>\n",
       "      <td>Wright Flyer III</td>\n",
       "      <td>2.0</td>\n",
       "      <td>1.0</td>\n",
       "      <td>1.0</td>\n",
       "      <td>1.0</td>\n",
       "      <td>1.0</td>\n",
       "      <td>0.0</td>\n",
       "      <td>0.0</td>\n",
       "      <td>During a demonstration flight, a U.S. Army fly...</td>\n",
       "    </tr>\n",
       "    <tr>\n",
       "      <th>1</th>\n",
       "      <td>1909/09/07</td>\n",
       "      <td>NaN</td>\n",
       "      <td>Juvisy-sur-Orge, France</td>\n",
       "      <td>?</td>\n",
       "      <td>Air show</td>\n",
       "      <td>Wright Byplane</td>\n",
       "      <td>1.0</td>\n",
       "      <td>0.0</td>\n",
       "      <td>1.0</td>\n",
       "      <td>1.0</td>\n",
       "      <td>0.0</td>\n",
       "      <td>0.0</td>\n",
       "      <td>0.0</td>\n",
       "      <td>Eugene Lefebvre was the first pilot to ever be...</td>\n",
       "    </tr>\n",
       "    <tr>\n",
       "      <th>2</th>\n",
       "      <td>1912/07/12</td>\n",
       "      <td>06:30</td>\n",
       "      <td>Atlantic City, New Jersey</td>\n",
       "      <td>Military - U.S. Navy</td>\n",
       "      <td>Test flight</td>\n",
       "      <td>Dirigible</td>\n",
       "      <td>5.0</td>\n",
       "      <td>0.0</td>\n",
       "      <td>5.0</td>\n",
       "      <td>5.0</td>\n",
       "      <td>0.0</td>\n",
       "      <td>5.0</td>\n",
       "      <td>0.0</td>\n",
       "      <td>First U.S. dirigible Akron exploded just offsh...</td>\n",
       "    </tr>\n",
       "    <tr>\n",
       "      <th>3</th>\n",
       "      <td>1913/08/06</td>\n",
       "      <td>NaN</td>\n",
       "      <td>Victoria, British Columbia, Canada</td>\n",
       "      <td>Private</td>\n",
       "      <td>?</td>\n",
       "      <td>Curtiss seaplane</td>\n",
       "      <td>1.0</td>\n",
       "      <td>0.0</td>\n",
       "      <td>1.0</td>\n",
       "      <td>1.0</td>\n",
       "      <td>0.0</td>\n",
       "      <td>1.0</td>\n",
       "      <td>0.0</td>\n",
       "      <td>The first fatal airplane accident in Canada oc...</td>\n",
       "    </tr>\n",
       "    <tr>\n",
       "      <th>4</th>\n",
       "      <td>1913/09/09</td>\n",
       "      <td>18:30</td>\n",
       "      <td>Over the North Sea</td>\n",
       "      <td>Military - German Navy</td>\n",
       "      <td>?</td>\n",
       "      <td>Zeppelin L-1 (airship)</td>\n",
       "      <td>20.0</td>\n",
       "      <td>16.0</td>\n",
       "      <td>4.0</td>\n",
       "      <td>14.0</td>\n",
       "      <td>10.0</td>\n",
       "      <td>4.0</td>\n",
       "      <td>0.0</td>\n",
       "      <td>The airship flew into a thunderstorm and encou...</td>\n",
       "    </tr>\n",
       "  </tbody>\n",
       "</table>\n",
       "</div>"
      ],
      "text/plain": [
       "        Fecha Hora declarada                  Lugar de Accidente  \\\n",
       "0  1908/09/17          17:18                 Fort Myer, Virginia   \n",
       "1  1909/09/07            NaN             Juvisy-sur-Orge, France   \n",
       "2  1912/07/12          06:30           Atlantic City, New Jersey   \n",
       "3  1913/08/06            NaN  Victoria, British Columbia, Canada   \n",
       "4  1913/09/09          18:30                  Over the North Sea   \n",
       "\n",
       "                 Operador Descripcion de la ruta        Tipo de aeronave  \\\n",
       "0    Military - U.S. Army          Demonstration        Wright Flyer III   \n",
       "1                       ?               Air show          Wright Byplane   \n",
       "2    Military - U.S. Navy            Test flight               Dirigible   \n",
       "3                 Private                      ?        Curtiss seaplane   \n",
       "4  Military - German Navy                      ?  Zeppelin L-1 (airship)   \n",
       "\n",
       "   Total personas a bordo  Pasajeros  Tripulación  Total de fallecidos  \\\n",
       "0                     2.0        1.0          1.0                  1.0   \n",
       "1                     1.0        0.0          1.0                  1.0   \n",
       "2                     5.0        0.0          5.0                  5.0   \n",
       "3                     1.0        0.0          1.0                  1.0   \n",
       "4                    20.0       16.0          4.0                 14.0   \n",
       "\n",
       "   Pasajeros fallecidos  Tripulación fallecidos  Víctimas en Tierra  \\\n",
       "0                   1.0                     0.0                 0.0   \n",
       "1                   0.0                     0.0                 0.0   \n",
       "2                   0.0                     5.0                 0.0   \n",
       "3                   0.0                     1.0                 0.0   \n",
       "4                  10.0                     4.0                 0.0   \n",
       "\n",
       "                                         Descripción  \n",
       "0  During a demonstration flight, a U.S. Army fly...  \n",
       "1  Eugene Lefebvre was the first pilot to ever be...  \n",
       "2  First U.S. dirigible Akron exploded just offsh...  \n",
       "3  The first fatal airplane accident in Canada oc...  \n",
       "4  The airship flew into a thunderstorm and encou...  "
      ]
     },
     "execution_count": 23,
     "metadata": {},
     "output_type": "execute_result"
    }
   ],
   "source": [
    "accidentes_df.head()"
   ]
  },
  {
   "cell_type": "markdown",
   "metadata": {},
   "source": [
    "##### 4. Cambio de valores\n",
    "\n",
    "Estos cambios se realizaron en las columnas Operador y Descripcion de la rutas, los valore inciales son el signo \"?\" entonces para tener una visualización correcta entonces decidí colocarle el nombre de Sin operador y Sin Ruta, respectivamente."
   ]
  },
  {
   "cell_type": "code",
   "execution_count": 25,
   "metadata": {},
   "outputs": [],
   "source": [
    "# Reemplazar \"?\" en la columna Operador y Descripcicon de la ruta\n",
    "accidentes_df['Operador'] = accidentes_df['Operador'].replace('?', 'Sin Operador')\n",
    "accidentes_df['Descripcion de la ruta'] = accidentes_df['Descripcion de la ruta'].replace('?', 'Sin Ruta')\n",
    "\n",
    "\n",
    "# Reemplazar NaN por \"Sin hora\" en la columna \"hora declarada\"\n",
    "accidentes_df['Hora declarada'].fillna('Sin hora', inplace=True)\n",
    "\n"
   ]
  },
  {
   "cell_type": "markdown",
   "metadata": {},
   "source": [
    "# __Exportando el arvhivo__"
   ]
  },
  {
   "cell_type": "code",
   "execution_count": 42,
   "metadata": {},
   "outputs": [],
   "source": [
    "# Grabando archivo\n",
    "nombre_archivo = \"data_procesada.csv\"\n",
    "accidentes_df.to_csv(nombre_archivo, index=False)\n"
   ]
  },
  {
   "cell_type": "markdown",
   "metadata": {},
   "source": [
    "# __Buscando las relaciones entre nuestro Dataset__"
   ]
  },
  {
   "cell_type": "code",
   "execution_count": 27,
   "metadata": {},
   "outputs": [
    {
     "data": {
      "text/html": [
       "<div>\n",
       "<style scoped>\n",
       "    .dataframe tbody tr th:only-of-type {\n",
       "        vertical-align: middle;\n",
       "    }\n",
       "\n",
       "    .dataframe tbody tr th {\n",
       "        vertical-align: top;\n",
       "    }\n",
       "\n",
       "    .dataframe thead th {\n",
       "        text-align: right;\n",
       "    }\n",
       "</style>\n",
       "<table border=\"1\" class=\"dataframe\">\n",
       "  <thead>\n",
       "    <tr style=\"text-align: right;\">\n",
       "      <th></th>\n",
       "      <th>Fecha</th>\n",
       "      <th>Hora declarada</th>\n",
       "      <th>Lugar de Accidente</th>\n",
       "      <th>Operador</th>\n",
       "      <th>Descripcion de la ruta</th>\n",
       "      <th>Tipo de aeronave</th>\n",
       "      <th>Total personas a bordo</th>\n",
       "      <th>Pasajeros</th>\n",
       "      <th>Tripulación</th>\n",
       "      <th>Total de fallecidos</th>\n",
       "      <th>Pasajeros fallecidos</th>\n",
       "      <th>Tripulación fallecidos</th>\n",
       "      <th>Víctimas en Tierra</th>\n",
       "      <th>Descripción</th>\n",
       "    </tr>\n",
       "  </thead>\n",
       "  <tbody>\n",
       "    <tr>\n",
       "      <th>0</th>\n",
       "      <td>1908/09/17</td>\n",
       "      <td>17:18</td>\n",
       "      <td>Fort Myer, Virginia</td>\n",
       "      <td>Military - U.S. Army</td>\n",
       "      <td>Demonstration</td>\n",
       "      <td>Wright Flyer III</td>\n",
       "      <td>2.0</td>\n",
       "      <td>1.0</td>\n",
       "      <td>1.0</td>\n",
       "      <td>1.0</td>\n",
       "      <td>1.0</td>\n",
       "      <td>0.0</td>\n",
       "      <td>0.0</td>\n",
       "      <td>During a demonstration flight, a U.S. Army fly...</td>\n",
       "    </tr>\n",
       "    <tr>\n",
       "      <th>1</th>\n",
       "      <td>1909/09/07</td>\n",
       "      <td>Sin hora</td>\n",
       "      <td>Juvisy-sur-Orge, France</td>\n",
       "      <td>Sin Operador</td>\n",
       "      <td>Air show</td>\n",
       "      <td>Wright Byplane</td>\n",
       "      <td>1.0</td>\n",
       "      <td>0.0</td>\n",
       "      <td>1.0</td>\n",
       "      <td>1.0</td>\n",
       "      <td>0.0</td>\n",
       "      <td>0.0</td>\n",
       "      <td>0.0</td>\n",
       "      <td>Eugene Lefebvre was the first pilot to ever be...</td>\n",
       "    </tr>\n",
       "    <tr>\n",
       "      <th>2</th>\n",
       "      <td>1912/07/12</td>\n",
       "      <td>06:30</td>\n",
       "      <td>Atlantic City, New Jersey</td>\n",
       "      <td>Military - U.S. Navy</td>\n",
       "      <td>Test flight</td>\n",
       "      <td>Dirigible</td>\n",
       "      <td>5.0</td>\n",
       "      <td>0.0</td>\n",
       "      <td>5.0</td>\n",
       "      <td>5.0</td>\n",
       "      <td>0.0</td>\n",
       "      <td>5.0</td>\n",
       "      <td>0.0</td>\n",
       "      <td>First U.S. dirigible Akron exploded just offsh...</td>\n",
       "    </tr>\n",
       "    <tr>\n",
       "      <th>3</th>\n",
       "      <td>1913/08/06</td>\n",
       "      <td>Sin hora</td>\n",
       "      <td>Victoria, British Columbia, Canada</td>\n",
       "      <td>Private</td>\n",
       "      <td>Sin Ruta</td>\n",
       "      <td>Curtiss seaplane</td>\n",
       "      <td>1.0</td>\n",
       "      <td>0.0</td>\n",
       "      <td>1.0</td>\n",
       "      <td>1.0</td>\n",
       "      <td>0.0</td>\n",
       "      <td>1.0</td>\n",
       "      <td>0.0</td>\n",
       "      <td>The first fatal airplane accident in Canada oc...</td>\n",
       "    </tr>\n",
       "    <tr>\n",
       "      <th>4</th>\n",
       "      <td>1913/09/09</td>\n",
       "      <td>18:30</td>\n",
       "      <td>Over the North Sea</td>\n",
       "      <td>Military - German Navy</td>\n",
       "      <td>Sin Ruta</td>\n",
       "      <td>Zeppelin L-1 (airship)</td>\n",
       "      <td>20.0</td>\n",
       "      <td>16.0</td>\n",
       "      <td>4.0</td>\n",
       "      <td>14.0</td>\n",
       "      <td>10.0</td>\n",
       "      <td>4.0</td>\n",
       "      <td>0.0</td>\n",
       "      <td>The airship flew into a thunderstorm and encou...</td>\n",
       "    </tr>\n",
       "  </tbody>\n",
       "</table>\n",
       "</div>"
      ],
      "text/plain": [
       "        Fecha Hora declarada                  Lugar de Accidente  \\\n",
       "0  1908/09/17          17:18                 Fort Myer, Virginia   \n",
       "1  1909/09/07       Sin hora             Juvisy-sur-Orge, France   \n",
       "2  1912/07/12          06:30           Atlantic City, New Jersey   \n",
       "3  1913/08/06       Sin hora  Victoria, British Columbia, Canada   \n",
       "4  1913/09/09          18:30                  Over the North Sea   \n",
       "\n",
       "                 Operador Descripcion de la ruta        Tipo de aeronave  \\\n",
       "0    Military - U.S. Army          Demonstration        Wright Flyer III   \n",
       "1            Sin Operador               Air show          Wright Byplane   \n",
       "2    Military - U.S. Navy            Test flight               Dirigible   \n",
       "3                 Private               Sin Ruta        Curtiss seaplane   \n",
       "4  Military - German Navy               Sin Ruta  Zeppelin L-1 (airship)   \n",
       "\n",
       "   Total personas a bordo  Pasajeros  Tripulación  Total de fallecidos  \\\n",
       "0                     2.0        1.0          1.0                  1.0   \n",
       "1                     1.0        0.0          1.0                  1.0   \n",
       "2                     5.0        0.0          5.0                  5.0   \n",
       "3                     1.0        0.0          1.0                  1.0   \n",
       "4                    20.0       16.0          4.0                 14.0   \n",
       "\n",
       "   Pasajeros fallecidos  Tripulación fallecidos  Víctimas en Tierra  \\\n",
       "0                   1.0                     0.0                 0.0   \n",
       "1                   0.0                     0.0                 0.0   \n",
       "2                   0.0                     5.0                 0.0   \n",
       "3                   0.0                     1.0                 0.0   \n",
       "4                  10.0                     4.0                 0.0   \n",
       "\n",
       "                                         Descripción  \n",
       "0  During a demonstration flight, a U.S. Army fly...  \n",
       "1  Eugene Lefebvre was the first pilot to ever be...  \n",
       "2  First U.S. dirigible Akron exploded just offsh...  \n",
       "3  The first fatal airplane accident in Canada oc...  \n",
       "4  The airship flew into a thunderstorm and encou...  "
      ]
     },
     "execution_count": 27,
     "metadata": {},
     "output_type": "execute_result"
    }
   ],
   "source": [
    "accidentes_df.head()"
   ]
  },
  {
   "cell_type": "code",
   "execution_count": 43,
   "metadata": {},
   "outputs": [
    {
     "name": "stdout",
     "output_type": "stream",
     "text": [
      "<class 'pandas.core.frame.DataFrame'>\n",
      "RangeIndex: 5000 entries, 0 to 4999\n",
      "Data columns (total 14 columns):\n",
      " #   Column                  Non-Null Count  Dtype  \n",
      "---  ------                  --------------  -----  \n",
      " 0   Fecha                   5000 non-null   object \n",
      " 1   Hora declarada          5000 non-null   object \n",
      " 2   Lugar de Accidente      5000 non-null   object \n",
      " 3   Operador                5000 non-null   object \n",
      " 4   Descripcion de la ruta  5000 non-null   object \n",
      " 5   Tipo de aeronave        5000 non-null   object \n",
      " 6   Total personas a bordo  5000 non-null   float64\n",
      " 7   Pasajeros               5000 non-null   float64\n",
      " 8   Tripulación             5000 non-null   float64\n",
      " 9   Total de fallecidos     5000 non-null   float64\n",
      " 10  Pasajeros fallecidos    5000 non-null   float64\n",
      " 11  Tripulación fallecidos  5000 non-null   float64\n",
      " 12  Víctimas en Tierra      4964 non-null   float64\n",
      " 13  Descripción             5000 non-null   object \n",
      "dtypes: float64(7), object(7)\n",
      "memory usage: 547.0+ KB\n"
     ]
    }
   ],
   "source": [
    "accidentes_df.info()"
   ]
  },
  {
   "cell_type": "code",
   "execution_count": 30,
   "metadata": {},
   "outputs": [
    {
     "name": "stderr",
     "output_type": "stream",
     "text": [
      "C:\\Users\\Administrador\\AppData\\Local\\Temp\\ipykernel_19208\\379749063.py:3: FutureWarning: The default value of numeric_only in DataFrame.corr is deprecated. In a future version, it will default to False. Select only valid columns or specify the value of numeric_only to silence this warning.\n",
      "  matriz_correlacion = accidentes_df.corr()\n"
     ]
    },
    {
     "data": {
      "image/png": "[encoded data removed]",
      "text/plain": [
       "<Figure size 1000x800 with 2 Axes>"
      ]
     },
     "metadata": {},
     "output_type": "display_data"
    }
   ],
   "source": [
    "# Supongamos que tienes un DataFrame llamado df con tus datos\n",
    "# Calcula la matriz de correlación\n",
    "matriz_correlacion = accidentes_df.corr()\n",
    "\n",
    "# Crea un mapa de calor (heatmap) para visualizar la matriz de correlación\n",
    "plt.figure(figsize=(10, 8))\n",
    "sns.heatmap(matriz_correlacion, annot=True, cmap='coolwarm', linewidths=.5)\n",
    "plt.title('Mapa de calor de correlación')\n",
    "plt.show()"
   ]
  },
  {
   "cell_type": "code",
   "execution_count": 44,
   "metadata": {},
   "outputs": [
    {
     "name": "stdout",
     "output_type": "stream",
     "text": [
      "Fecha mayor: 2021/07/06\n",
      "Fecha menor: 1908/09/17\n"
     ]
    }
   ],
   "source": [
    "fecha_mayor = accidentes_df['Fecha'].max()\n",
    "fecha_menor = accidentes_df['Fecha'].min()\n",
    "\n",
    "print(f\"Fecha mayor: {fecha_mayor}\")\n",
    "print(f\"Fecha menor: {fecha_menor}\")"
   ]
  }
 ],
 "metadata": {
  "kernelspec": {
   "display_name": "Python 3.11.4 64-bit",
   "language": "python",
   "name": "python3"
  },
  "language_info": {
   "codemirror_mode": {
    "name": "ipython",
    "version": 3
   },
   "file_extension": ".py",
   "mimetype": "text/x-python",
   "name": "python",
   "nbconvert_exporter": "python",
   "pygments_lexer": "ipython3",
   "version": "3.11.4"
  },
  "orig_nbformat": 4,
  "vscode": {
   "interpreter": {
    "hash": "5238573367df39f7286bb46f9ff5f08f63a01a80960060ce41e3c79b190280fa"
   }
  }
 },
 "nbformat": 4,
 "nbformat_minor": 2
}
